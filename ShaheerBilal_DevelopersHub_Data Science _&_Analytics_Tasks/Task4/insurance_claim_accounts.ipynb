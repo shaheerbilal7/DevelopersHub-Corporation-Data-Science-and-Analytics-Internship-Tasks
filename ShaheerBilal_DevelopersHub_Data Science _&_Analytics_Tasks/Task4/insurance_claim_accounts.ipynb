{
 "cells": [
  {
   "cell_type": "markdown",
   "id": "25a2ce89",
   "metadata": {},
   "source": [
    "**Task 4: Predicting Insurance Claim Amounts**"
   ]
  },
  {
   "cell_type": "markdown",
   "id": "3619fa5d",
   "metadata": {},
   "source": [
    "Objective: \n",
    "* Estimate the medical insurance claim amount based on personal data. "
   ]
  },
  {
   "cell_type": "code",
   "execution_count": 2,
   "id": "f9b56d96",
   "metadata": {},
   "outputs": [
    {
     "data": {
      "application/vnd.microsoft.datawrangler.viewer.v0+json": {
       "columns": [
        {
         "name": "index",
         "rawType": "int64",
         "type": "integer"
        },
        {
         "name": "age",
         "rawType": "int64",
         "type": "integer"
        },
        {
         "name": "sex",
         "rawType": "object",
         "type": "string"
        },
        {
         "name": "bmi",
         "rawType": "float64",
         "type": "float"
        },
        {
         "name": "children",
         "rawType": "int64",
         "type": "integer"
        },
        {
         "name": "smoker",
         "rawType": "object",
         "type": "string"
        },
        {
         "name": "region",
         "rawType": "object",
         "type": "string"
        },
        {
         "name": "charges",
         "rawType": "float64",
         "type": "float"
        }
       ],
       "ref": "87631a0b-5df9-45b6-9225-3a38d63c52bf",
       "rows": [
        [
         "0",
         "19",
         "female",
         "27.9",
         "0",
         "yes",
         "southwest",
         "16884.924"
        ],
        [
         "1",
         "18",
         "male",
         "33.77",
         "1",
         "no",
         "southeast",
         "1725.5523"
        ],
        [
         "2",
         "28",
         "male",
         "33.0",
         "3",
         "no",
         "southeast",
         "4449.462"
        ],
        [
         "3",
         "33",
         "male",
         "22.705",
         "0",
         "no",
         "northwest",
         "21984.47061"
        ],
        [
         "4",
         "32",
         "male",
         "28.88",
         "0",
         "no",
         "northwest",
         "3866.8552"
        ],
        [
         "5",
         "31",
         "female",
         "25.74",
         "0",
         "no",
         "southeast",
         "3756.6216"
        ],
        [
         "6",
         "46",
         "female",
         "33.44",
         "1",
         "no",
         "southeast",
         "8240.5896"
        ],
        [
         "7",
         "37",
         "female",
         "27.74",
         "3",
         "no",
         "northwest",
         "7281.5056"
        ],
        [
         "8",
         "37",
         "male",
         "29.83",
         "2",
         "no",
         "northeast",
         "6406.4107"
        ],
        [
         "9",
         "60",
         "female",
         "25.84",
         "0",
         "no",
         "northwest",
         "28923.13692"
        ],
        [
         "10",
         "25",
         "male",
         "26.22",
         "0",
         "no",
         "northeast",
         "2721.3208"
        ],
        [
         "11",
         "62",
         "female",
         "26.29",
         "0",
         "yes",
         "southeast",
         "27808.7251"
        ],
        [
         "12",
         "23",
         "male",
         "34.4",
         "0",
         "no",
         "southwest",
         "1826.843"
        ],
        [
         "13",
         "56",
         "female",
         "39.82",
         "0",
         "no",
         "southeast",
         "11090.7178"
        ],
        [
         "14",
         "27",
         "male",
         "42.13",
         "0",
         "yes",
         "southeast",
         "39611.7577"
        ],
        [
         "15",
         "19",
         "male",
         "24.6",
         "1",
         "no",
         "southwest",
         "1837.237"
        ],
        [
         "16",
         "52",
         "female",
         "30.78",
         "1",
         "no",
         "northeast",
         "10797.3362"
        ],
        [
         "17",
         "23",
         "male",
         "23.845",
         "0",
         "no",
         "northeast",
         "2395.17155"
        ],
        [
         "18",
         "56",
         "male",
         "40.3",
         "0",
         "no",
         "southwest",
         "10602.385"
        ],
        [
         "19",
         "30",
         "male",
         "35.3",
         "0",
         "yes",
         "southwest",
         "36837.467"
        ],
        [
         "20",
         "60",
         "female",
         "36.005",
         "0",
         "no",
         "northeast",
         "13228.84695"
        ],
        [
         "21",
         "30",
         "female",
         "32.4",
         "1",
         "no",
         "southwest",
         "4149.736"
        ],
        [
         "22",
         "18",
         "male",
         "34.1",
         "0",
         "no",
         "southeast",
         "1137.011"
        ],
        [
         "23",
         "34",
         "female",
         "31.92",
         "1",
         "yes",
         "northeast",
         "37701.8768"
        ],
        [
         "24",
         "37",
         "male",
         "28.025",
         "2",
         "no",
         "northwest",
         "6203.90175"
        ],
        [
         "25",
         "59",
         "female",
         "27.72",
         "3",
         "no",
         "southeast",
         "14001.1338"
        ],
        [
         "26",
         "63",
         "female",
         "23.085",
         "0",
         "no",
         "northeast",
         "14451.83515"
        ],
        [
         "27",
         "55",
         "female",
         "32.775",
         "2",
         "no",
         "northwest",
         "12268.63225"
        ],
        [
         "28",
         "23",
         "male",
         "17.385",
         "1",
         "no",
         "northwest",
         "2775.19215"
        ],
        [
         "29",
         "31",
         "male",
         "36.3",
         "2",
         "yes",
         "southwest",
         "38711.0"
        ],
        [
         "30",
         "22",
         "male",
         "35.6",
         "0",
         "yes",
         "southwest",
         "35585.576"
        ],
        [
         "31",
         "18",
         "female",
         "26.315",
         "0",
         "no",
         "northeast",
         "2198.18985"
        ],
        [
         "32",
         "19",
         "female",
         "28.6",
         "5",
         "no",
         "southwest",
         "4687.797"
        ],
        [
         "33",
         "63",
         "male",
         "28.31",
         "0",
         "no",
         "northwest",
         "13770.0979"
        ],
        [
         "34",
         "28",
         "male",
         "36.4",
         "1",
         "yes",
         "southwest",
         "51194.55914"
        ],
        [
         "35",
         "19",
         "male",
         "20.425",
         "0",
         "no",
         "northwest",
         "1625.43375"
        ],
        [
         "36",
         "62",
         "female",
         "32.965",
         "3",
         "no",
         "northwest",
         "15612.19335"
        ],
        [
         "37",
         "26",
         "male",
         "20.8",
         "0",
         "no",
         "southwest",
         "2302.3"
        ],
        [
         "38",
         "35",
         "male",
         "36.67",
         "1",
         "yes",
         "northeast",
         "39774.2763"
        ],
        [
         "39",
         "60",
         "male",
         "39.9",
         "0",
         "yes",
         "southwest",
         "48173.361"
        ],
        [
         "40",
         "24",
         "female",
         "26.6",
         "0",
         "no",
         "northeast",
         "3046.062"
        ],
        [
         "41",
         "31",
         "female",
         "36.63",
         "2",
         "no",
         "southeast",
         "4949.7587"
        ],
        [
         "42",
         "41",
         "male",
         "21.78",
         "1",
         "no",
         "southeast",
         "6272.4772"
        ],
        [
         "43",
         "37",
         "female",
         "30.8",
         "2",
         "no",
         "southeast",
         "6313.759"
        ],
        [
         "44",
         "38",
         "male",
         "37.05",
         "1",
         "no",
         "northeast",
         "6079.6715"
        ],
        [
         "45",
         "55",
         "male",
         "37.3",
         "0",
         "no",
         "southwest",
         "20630.28351"
        ],
        [
         "46",
         "18",
         "female",
         "38.665",
         "2",
         "no",
         "northeast",
         "3393.35635"
        ],
        [
         "47",
         "28",
         "female",
         "34.77",
         "0",
         "no",
         "northwest",
         "3556.9223"
        ],
        [
         "48",
         "60",
         "female",
         "24.53",
         "0",
         "no",
         "southeast",
         "12629.8967"
        ],
        [
         "49",
         "36",
         "male",
         "35.2",
         "1",
         "yes",
         "southeast",
         "38709.176"
        ]
       ],
       "shape": {
        "columns": 7,
        "rows": 1338
       }
      },
      "text/html": [
       "<div>\n",
       "<style scoped>\n",
       "    .dataframe tbody tr th:only-of-type {\n",
       "        vertical-align: middle;\n",
       "    }\n",
       "\n",
       "    .dataframe tbody tr th {\n",
       "        vertical-align: top;\n",
       "    }\n",
       "\n",
       "    .dataframe thead th {\n",
       "        text-align: right;\n",
       "    }\n",
       "</style>\n",
       "<table border=\"1\" class=\"dataframe\">\n",
       "  <thead>\n",
       "    <tr style=\"text-align: right;\">\n",
       "      <th></th>\n",
       "      <th>age</th>\n",
       "      <th>sex</th>\n",
       "      <th>bmi</th>\n",
       "      <th>children</th>\n",
       "      <th>smoker</th>\n",
       "      <th>region</th>\n",
       "      <th>charges</th>\n",
       "    </tr>\n",
       "  </thead>\n",
       "  <tbody>\n",
       "    <tr>\n",
       "      <th>0</th>\n",
       "      <td>19</td>\n",
       "      <td>female</td>\n",
       "      <td>27.900</td>\n",
       "      <td>0</td>\n",
       "      <td>yes</td>\n",
       "      <td>southwest</td>\n",
       "      <td>16884.92400</td>\n",
       "    </tr>\n",
       "    <tr>\n",
       "      <th>1</th>\n",
       "      <td>18</td>\n",
       "      <td>male</td>\n",
       "      <td>33.770</td>\n",
       "      <td>1</td>\n",
       "      <td>no</td>\n",
       "      <td>southeast</td>\n",
       "      <td>1725.55230</td>\n",
       "    </tr>\n",
       "    <tr>\n",
       "      <th>2</th>\n",
       "      <td>28</td>\n",
       "      <td>male</td>\n",
       "      <td>33.000</td>\n",
       "      <td>3</td>\n",
       "      <td>no</td>\n",
       "      <td>southeast</td>\n",
       "      <td>4449.46200</td>\n",
       "    </tr>\n",
       "    <tr>\n",
       "      <th>3</th>\n",
       "      <td>33</td>\n",
       "      <td>male</td>\n",
       "      <td>22.705</td>\n",
       "      <td>0</td>\n",
       "      <td>no</td>\n",
       "      <td>northwest</td>\n",
       "      <td>21984.47061</td>\n",
       "    </tr>\n",
       "    <tr>\n",
       "      <th>4</th>\n",
       "      <td>32</td>\n",
       "      <td>male</td>\n",
       "      <td>28.880</td>\n",
       "      <td>0</td>\n",
       "      <td>no</td>\n",
       "      <td>northwest</td>\n",
       "      <td>3866.85520</td>\n",
       "    </tr>\n",
       "    <tr>\n",
       "      <th>...</th>\n",
       "      <td>...</td>\n",
       "      <td>...</td>\n",
       "      <td>...</td>\n",
       "      <td>...</td>\n",
       "      <td>...</td>\n",
       "      <td>...</td>\n",
       "      <td>...</td>\n",
       "    </tr>\n",
       "    <tr>\n",
       "      <th>1333</th>\n",
       "      <td>50</td>\n",
       "      <td>male</td>\n",
       "      <td>30.970</td>\n",
       "      <td>3</td>\n",
       "      <td>no</td>\n",
       "      <td>northwest</td>\n",
       "      <td>10600.54830</td>\n",
       "    </tr>\n",
       "    <tr>\n",
       "      <th>1334</th>\n",
       "      <td>18</td>\n",
       "      <td>female</td>\n",
       "      <td>31.920</td>\n",
       "      <td>0</td>\n",
       "      <td>no</td>\n",
       "      <td>northeast</td>\n",
       "      <td>2205.98080</td>\n",
       "    </tr>\n",
       "    <tr>\n",
       "      <th>1335</th>\n",
       "      <td>18</td>\n",
       "      <td>female</td>\n",
       "      <td>36.850</td>\n",
       "      <td>0</td>\n",
       "      <td>no</td>\n",
       "      <td>southeast</td>\n",
       "      <td>1629.83350</td>\n",
       "    </tr>\n",
       "    <tr>\n",
       "      <th>1336</th>\n",
       "      <td>21</td>\n",
       "      <td>female</td>\n",
       "      <td>25.800</td>\n",
       "      <td>0</td>\n",
       "      <td>no</td>\n",
       "      <td>southwest</td>\n",
       "      <td>2007.94500</td>\n",
       "    </tr>\n",
       "    <tr>\n",
       "      <th>1337</th>\n",
       "      <td>61</td>\n",
       "      <td>female</td>\n",
       "      <td>29.070</td>\n",
       "      <td>0</td>\n",
       "      <td>yes</td>\n",
       "      <td>northwest</td>\n",
       "      <td>29141.36030</td>\n",
       "    </tr>\n",
       "  </tbody>\n",
       "</table>\n",
       "<p>1338 rows × 7 columns</p>\n",
       "</div>"
      ],
      "text/plain": [
       "      age     sex     bmi  children smoker     region      charges\n",
       "0      19  female  27.900         0    yes  southwest  16884.92400\n",
       "1      18    male  33.770         1     no  southeast   1725.55230\n",
       "2      28    male  33.000         3     no  southeast   4449.46200\n",
       "3      33    male  22.705         0     no  northwest  21984.47061\n",
       "4      32    male  28.880         0     no  northwest   3866.85520\n",
       "...   ...     ...     ...       ...    ...        ...          ...\n",
       "1333   50    male  30.970         3     no  northwest  10600.54830\n",
       "1334   18  female  31.920         0     no  northeast   2205.98080\n",
       "1335   18  female  36.850         0     no  southeast   1629.83350\n",
       "1336   21  female  25.800         0     no  southwest   2007.94500\n",
       "1337   61  female  29.070         0    yes  northwest  29141.36030\n",
       "\n",
       "[1338 rows x 7 columns]"
      ]
     },
     "execution_count": 2,
     "metadata": {},
     "output_type": "execute_result"
    }
   ],
   "source": [
    "import pandas as pd\n",
    "import matplotlib.pyplot as plt\n",
    "import seaborn as sns\n",
    "from sklearn.model_selection import train_test_split\n",
    "from sklearn.linear_model import LinearRegression\n",
    "\n",
    "insurancedf = pd.read_csv('insurance.csv')\n",
    "insurancedf"
   ]
  },
  {
   "cell_type": "code",
   "execution_count": 2,
   "id": "a148d564",
   "metadata": {},
   "outputs": [
    {
     "data": {
      "text/plain": [
       "(1338, 7)"
      ]
     },
     "execution_count": 2,
     "metadata": {},
     "output_type": "execute_result"
    }
   ],
   "source": [
    "insurancedf.shape"
   ]
  },
  {
   "cell_type": "code",
   "execution_count": 4,
   "id": "4be5ec8c",
   "metadata": {},
   "outputs": [
    {
     "name": "stdout",
     "output_type": "stream",
     "text": [
      "Features:\n"
     ]
    },
    {
     "data": {
      "application/vnd.microsoft.datawrangler.viewer.v0+json": {
       "columns": [
        {
         "name": "index",
         "rawType": "int64",
         "type": "integer"
        },
        {
         "name": "age",
         "rawType": "int64",
         "type": "integer"
        },
        {
         "name": "bmi",
         "rawType": "float64",
         "type": "float"
        },
        {
         "name": "children",
         "rawType": "int64",
         "type": "integer"
        },
        {
         "name": "sex_male",
         "rawType": "bool",
         "type": "boolean"
        },
        {
         "name": "smoker_yes",
         "rawType": "bool",
         "type": "boolean"
        },
        {
         "name": "region_northwest",
         "rawType": "bool",
         "type": "boolean"
        },
        {
         "name": "region_southeast",
         "rawType": "bool",
         "type": "boolean"
        },
        {
         "name": "region_southwest",
         "rawType": "bool",
         "type": "boolean"
        }
       ],
       "ref": "738b62aa-ccb0-4a28-b9a0-c1e6dd106294",
       "rows": [
        [
         "0",
         "19",
         "27.9",
         "0",
         "False",
         "True",
         "False",
         "False",
         "True"
        ],
        [
         "1",
         "18",
         "33.77",
         "1",
         "True",
         "False",
         "False",
         "True",
         "False"
        ],
        [
         "2",
         "28",
         "33.0",
         "3",
         "True",
         "False",
         "False",
         "True",
         "False"
        ],
        [
         "3",
         "33",
         "22.705",
         "0",
         "True",
         "False",
         "True",
         "False",
         "False"
        ],
        [
         "4",
         "32",
         "28.88",
         "0",
         "True",
         "False",
         "True",
         "False",
         "False"
        ],
        [
         "5",
         "31",
         "25.74",
         "0",
         "False",
         "False",
         "False",
         "True",
         "False"
        ],
        [
         "6",
         "46",
         "33.44",
         "1",
         "False",
         "False",
         "False",
         "True",
         "False"
        ],
        [
         "7",
         "37",
         "27.74",
         "3",
         "False",
         "False",
         "True",
         "False",
         "False"
        ],
        [
         "8",
         "37",
         "29.83",
         "2",
         "True",
         "False",
         "False",
         "False",
         "False"
        ],
        [
         "9",
         "60",
         "25.84",
         "0",
         "False",
         "False",
         "True",
         "False",
         "False"
        ],
        [
         "10",
         "25",
         "26.22",
         "0",
         "True",
         "False",
         "False",
         "False",
         "False"
        ],
        [
         "11",
         "62",
         "26.29",
         "0",
         "False",
         "True",
         "False",
         "True",
         "False"
        ],
        [
         "12",
         "23",
         "34.4",
         "0",
         "True",
         "False",
         "False",
         "False",
         "True"
        ],
        [
         "13",
         "56",
         "39.82",
         "0",
         "False",
         "False",
         "False",
         "True",
         "False"
        ],
        [
         "14",
         "27",
         "42.13",
         "0",
         "True",
         "True",
         "False",
         "True",
         "False"
        ],
        [
         "15",
         "19",
         "24.6",
         "1",
         "True",
         "False",
         "False",
         "False",
         "True"
        ],
        [
         "16",
         "52",
         "30.78",
         "1",
         "False",
         "False",
         "False",
         "False",
         "False"
        ],
        [
         "17",
         "23",
         "23.845",
         "0",
         "True",
         "False",
         "False",
         "False",
         "False"
        ],
        [
         "18",
         "56",
         "40.3",
         "0",
         "True",
         "False",
         "False",
         "False",
         "True"
        ],
        [
         "19",
         "30",
         "35.3",
         "0",
         "True",
         "True",
         "False",
         "False",
         "True"
        ],
        [
         "20",
         "60",
         "36.005",
         "0",
         "False",
         "False",
         "False",
         "False",
         "False"
        ],
        [
         "21",
         "30",
         "32.4",
         "1",
         "False",
         "False",
         "False",
         "False",
         "True"
        ],
        [
         "22",
         "18",
         "34.1",
         "0",
         "True",
         "False",
         "False",
         "True",
         "False"
        ],
        [
         "23",
         "34",
         "31.92",
         "1",
         "False",
         "True",
         "False",
         "False",
         "False"
        ],
        [
         "24",
         "37",
         "28.025",
         "2",
         "True",
         "False",
         "True",
         "False",
         "False"
        ],
        [
         "25",
         "59",
         "27.72",
         "3",
         "False",
         "False",
         "False",
         "True",
         "False"
        ],
        [
         "26",
         "63",
         "23.085",
         "0",
         "False",
         "False",
         "False",
         "False",
         "False"
        ],
        [
         "27",
         "55",
         "32.775",
         "2",
         "False",
         "False",
         "True",
         "False",
         "False"
        ],
        [
         "28",
         "23",
         "17.385",
         "1",
         "True",
         "False",
         "True",
         "False",
         "False"
        ],
        [
         "29",
         "31",
         "36.3",
         "2",
         "True",
         "True",
         "False",
         "False",
         "True"
        ],
        [
         "30",
         "22",
         "35.6",
         "0",
         "True",
         "True",
         "False",
         "False",
         "True"
        ],
        [
         "31",
         "18",
         "26.315",
         "0",
         "False",
         "False",
         "False",
         "False",
         "False"
        ],
        [
         "32",
         "19",
         "28.6",
         "5",
         "False",
         "False",
         "False",
         "False",
         "True"
        ],
        [
         "33",
         "63",
         "28.31",
         "0",
         "True",
         "False",
         "True",
         "False",
         "False"
        ],
        [
         "34",
         "28",
         "36.4",
         "1",
         "True",
         "True",
         "False",
         "False",
         "True"
        ],
        [
         "35",
         "19",
         "20.425",
         "0",
         "True",
         "False",
         "True",
         "False",
         "False"
        ],
        [
         "36",
         "62",
         "32.965",
         "3",
         "False",
         "False",
         "True",
         "False",
         "False"
        ],
        [
         "37",
         "26",
         "20.8",
         "0",
         "True",
         "False",
         "False",
         "False",
         "True"
        ],
        [
         "38",
         "35",
         "36.67",
         "1",
         "True",
         "True",
         "False",
         "False",
         "False"
        ],
        [
         "39",
         "60",
         "39.9",
         "0",
         "True",
         "True",
         "False",
         "False",
         "True"
        ],
        [
         "40",
         "24",
         "26.6",
         "0",
         "False",
         "False",
         "False",
         "False",
         "False"
        ],
        [
         "41",
         "31",
         "36.63",
         "2",
         "False",
         "False",
         "False",
         "True",
         "False"
        ],
        [
         "42",
         "41",
         "21.78",
         "1",
         "True",
         "False",
         "False",
         "True",
         "False"
        ],
        [
         "43",
         "37",
         "30.8",
         "2",
         "False",
         "False",
         "False",
         "True",
         "False"
        ],
        [
         "44",
         "38",
         "37.05",
         "1",
         "True",
         "False",
         "False",
         "False",
         "False"
        ],
        [
         "45",
         "55",
         "37.3",
         "0",
         "True",
         "False",
         "False",
         "False",
         "True"
        ],
        [
         "46",
         "18",
         "38.665",
         "2",
         "False",
         "False",
         "False",
         "False",
         "False"
        ],
        [
         "47",
         "28",
         "34.77",
         "0",
         "False",
         "False",
         "True",
         "False",
         "False"
        ],
        [
         "48",
         "60",
         "24.53",
         "0",
         "False",
         "False",
         "False",
         "True",
         "False"
        ],
        [
         "49",
         "36",
         "35.2",
         "1",
         "True",
         "True",
         "False",
         "True",
         "False"
        ]
       ],
       "shape": {
        "columns": 8,
        "rows": 1338
       }
      },
      "text/html": [
       "<div>\n",
       "<style scoped>\n",
       "    .dataframe tbody tr th:only-of-type {\n",
       "        vertical-align: middle;\n",
       "    }\n",
       "\n",
       "    .dataframe tbody tr th {\n",
       "        vertical-align: top;\n",
       "    }\n",
       "\n",
       "    .dataframe thead th {\n",
       "        text-align: right;\n",
       "    }\n",
       "</style>\n",
       "<table border=\"1\" class=\"dataframe\">\n",
       "  <thead>\n",
       "    <tr style=\"text-align: right;\">\n",
       "      <th></th>\n",
       "      <th>age</th>\n",
       "      <th>bmi</th>\n",
       "      <th>children</th>\n",
       "      <th>sex_male</th>\n",
       "      <th>smoker_yes</th>\n",
       "      <th>region_northwest</th>\n",
       "      <th>region_southeast</th>\n",
       "      <th>region_southwest</th>\n",
       "    </tr>\n",
       "  </thead>\n",
       "  <tbody>\n",
       "    <tr>\n",
       "      <th>0</th>\n",
       "      <td>19</td>\n",
       "      <td>27.900</td>\n",
       "      <td>0</td>\n",
       "      <td>False</td>\n",
       "      <td>True</td>\n",
       "      <td>False</td>\n",
       "      <td>False</td>\n",
       "      <td>True</td>\n",
       "    </tr>\n",
       "    <tr>\n",
       "      <th>1</th>\n",
       "      <td>18</td>\n",
       "      <td>33.770</td>\n",
       "      <td>1</td>\n",
       "      <td>True</td>\n",
       "      <td>False</td>\n",
       "      <td>False</td>\n",
       "      <td>True</td>\n",
       "      <td>False</td>\n",
       "    </tr>\n",
       "    <tr>\n",
       "      <th>2</th>\n",
       "      <td>28</td>\n",
       "      <td>33.000</td>\n",
       "      <td>3</td>\n",
       "      <td>True</td>\n",
       "      <td>False</td>\n",
       "      <td>False</td>\n",
       "      <td>True</td>\n",
       "      <td>False</td>\n",
       "    </tr>\n",
       "    <tr>\n",
       "      <th>3</th>\n",
       "      <td>33</td>\n",
       "      <td>22.705</td>\n",
       "      <td>0</td>\n",
       "      <td>True</td>\n",
       "      <td>False</td>\n",
       "      <td>True</td>\n",
       "      <td>False</td>\n",
       "      <td>False</td>\n",
       "    </tr>\n",
       "    <tr>\n",
       "      <th>4</th>\n",
       "      <td>32</td>\n",
       "      <td>28.880</td>\n",
       "      <td>0</td>\n",
       "      <td>True</td>\n",
       "      <td>False</td>\n",
       "      <td>True</td>\n",
       "      <td>False</td>\n",
       "      <td>False</td>\n",
       "    </tr>\n",
       "    <tr>\n",
       "      <th>...</th>\n",
       "      <td>...</td>\n",
       "      <td>...</td>\n",
       "      <td>...</td>\n",
       "      <td>...</td>\n",
       "      <td>...</td>\n",
       "      <td>...</td>\n",
       "      <td>...</td>\n",
       "      <td>...</td>\n",
       "    </tr>\n",
       "    <tr>\n",
       "      <th>1333</th>\n",
       "      <td>50</td>\n",
       "      <td>30.970</td>\n",
       "      <td>3</td>\n",
       "      <td>True</td>\n",
       "      <td>False</td>\n",
       "      <td>True</td>\n",
       "      <td>False</td>\n",
       "      <td>False</td>\n",
       "    </tr>\n",
       "    <tr>\n",
       "      <th>1334</th>\n",
       "      <td>18</td>\n",
       "      <td>31.920</td>\n",
       "      <td>0</td>\n",
       "      <td>False</td>\n",
       "      <td>False</td>\n",
       "      <td>False</td>\n",
       "      <td>False</td>\n",
       "      <td>False</td>\n",
       "    </tr>\n",
       "    <tr>\n",
       "      <th>1335</th>\n",
       "      <td>18</td>\n",
       "      <td>36.850</td>\n",
       "      <td>0</td>\n",
       "      <td>False</td>\n",
       "      <td>False</td>\n",
       "      <td>False</td>\n",
       "      <td>True</td>\n",
       "      <td>False</td>\n",
       "    </tr>\n",
       "    <tr>\n",
       "      <th>1336</th>\n",
       "      <td>21</td>\n",
       "      <td>25.800</td>\n",
       "      <td>0</td>\n",
       "      <td>False</td>\n",
       "      <td>False</td>\n",
       "      <td>False</td>\n",
       "      <td>False</td>\n",
       "      <td>True</td>\n",
       "    </tr>\n",
       "    <tr>\n",
       "      <th>1337</th>\n",
       "      <td>61</td>\n",
       "      <td>29.070</td>\n",
       "      <td>0</td>\n",
       "      <td>False</td>\n",
       "      <td>True</td>\n",
       "      <td>True</td>\n",
       "      <td>False</td>\n",
       "      <td>False</td>\n",
       "    </tr>\n",
       "  </tbody>\n",
       "</table>\n",
       "<p>1338 rows × 8 columns</p>\n",
       "</div>"
      ],
      "text/plain": [
       "      age     bmi  ...  region_southeast  region_southwest\n",
       "0      19  27.900  ...             False              True\n",
       "1      18  33.770  ...              True             False\n",
       "2      28  33.000  ...              True             False\n",
       "3      33  22.705  ...             False             False\n",
       "4      32  28.880  ...             False             False\n",
       "...   ...     ...  ...               ...               ...\n",
       "1333   50  30.970  ...             False             False\n",
       "1334   18  31.920  ...             False             False\n",
       "1335   18  36.850  ...              True             False\n",
       "1336   21  25.800  ...             False              True\n",
       "1337   61  29.070  ...             False             False\n",
       "\n",
       "[1338 rows x 8 columns]"
      ]
     },
     "metadata": {},
     "output_type": "display_data"
    },
    {
     "name": "stdout",
     "output_type": "stream",
     "text": [
      "Target variable:\n"
     ]
    },
    {
     "data": {
      "application/vnd.microsoft.datawrangler.viewer.v0+json": {
       "columns": [
        {
         "name": "index",
         "rawType": "int64",
         "type": "integer"
        },
        {
         "name": "charges",
         "rawType": "float64",
         "type": "float"
        }
       ],
       "ref": "410277e2-39f7-491b-bf54-1adb5ff405ba",
       "rows": [
        [
         "0",
         "16884.924"
        ],
        [
         "1",
         "1725.5523"
        ],
        [
         "2",
         "4449.462"
        ],
        [
         "3",
         "21984.47061"
        ],
        [
         "4",
         "3866.8552"
        ],
        [
         "5",
         "3756.6216"
        ],
        [
         "6",
         "8240.5896"
        ],
        [
         "7",
         "7281.5056"
        ],
        [
         "8",
         "6406.4107"
        ],
        [
         "9",
         "28923.13692"
        ],
        [
         "10",
         "2721.3208"
        ],
        [
         "11",
         "27808.7251"
        ],
        [
         "12",
         "1826.843"
        ],
        [
         "13",
         "11090.7178"
        ],
        [
         "14",
         "39611.7577"
        ],
        [
         "15",
         "1837.237"
        ],
        [
         "16",
         "10797.3362"
        ],
        [
         "17",
         "2395.17155"
        ],
        [
         "18",
         "10602.385"
        ],
        [
         "19",
         "36837.467"
        ],
        [
         "20",
         "13228.84695"
        ],
        [
         "21",
         "4149.736"
        ],
        [
         "22",
         "1137.011"
        ],
        [
         "23",
         "37701.8768"
        ],
        [
         "24",
         "6203.90175"
        ],
        [
         "25",
         "14001.1338"
        ],
        [
         "26",
         "14451.83515"
        ],
        [
         "27",
         "12268.63225"
        ],
        [
         "28",
         "2775.19215"
        ],
        [
         "29",
         "38711.0"
        ],
        [
         "30",
         "35585.576"
        ],
        [
         "31",
         "2198.18985"
        ],
        [
         "32",
         "4687.797"
        ],
        [
         "33",
         "13770.0979"
        ],
        [
         "34",
         "51194.55914"
        ],
        [
         "35",
         "1625.43375"
        ],
        [
         "36",
         "15612.19335"
        ],
        [
         "37",
         "2302.3"
        ],
        [
         "38",
         "39774.2763"
        ],
        [
         "39",
         "48173.361"
        ],
        [
         "40",
         "3046.062"
        ],
        [
         "41",
         "4949.7587"
        ],
        [
         "42",
         "6272.4772"
        ],
        [
         "43",
         "6313.759"
        ],
        [
         "44",
         "6079.6715"
        ],
        [
         "45",
         "20630.28351"
        ],
        [
         "46",
         "3393.35635"
        ],
        [
         "47",
         "3556.9223"
        ],
        [
         "48",
         "12629.8967"
        ],
        [
         "49",
         "38709.176"
        ]
       ],
       "shape": {
        "columns": 1,
        "rows": 1338
       }
      },
      "text/plain": [
       "0       16884.92400\n",
       "1        1725.55230\n",
       "2        4449.46200\n",
       "3       21984.47061\n",
       "4        3866.85520\n",
       "           ...     \n",
       "1333    10600.54830\n",
       "1334     2205.98080\n",
       "1335     1629.83350\n",
       "1336     2007.94500\n",
       "1337    29141.36030\n",
       "Name: charges, Length: 1338, dtype: float64"
      ]
     },
     "metadata": {},
     "output_type": "display_data"
    },
    {
     "name": "stdout",
     "output_type": "stream",
     "text": [
      "Mean Absolute Error (MAE): 4181.19\n",
      "Root Mean Squared Error (RMSE): 5796.28\n"
     ]
    },
    {
     "data": {
      "image/png": "[encoded data removed]",
      "text/plain": [
       "<Figure size 1500x500 with 3 Axes>"
      ]
     },
     "metadata": {},
     "output_type": "display_data"
    }
   ],
   "source": [
    "import numpy as np\n",
    "import pandas as pd\n",
    "import matplotlib.pyplot as plt\n",
    "import seaborn as sns\n",
    "from sklearn.model_selection import train_test_split\n",
    "from sklearn.linear_model import LinearRegression\n",
    "from sklearn.metrics import mean_absolute_error, mean_squared_error\n",
    "\n",
    "insurancedf = pd.read_csv('insurance.csv')\n",
    "\n",
    "# Checking for missing values\n",
    "insurancedf.isnull().sum()\n",
    "\n",
    "# Encode cateegorical variables\n",
    "encodedf = pd.get_dummies(insurancedf, drop_first=True)\n",
    "\n",
    "encodedf\n",
    "\n",
    "# Features and target\n",
    "X = encodedf.drop('charges', axis=1)\n",
    "y = encodedf['charges']\n",
    "\n",
    "print(\"Features:\")\n",
    "display(X)\n",
    "\n",
    "print(\"Target variable:\")\n",
    "display(y)\n",
    "\n",
    "# Split into train and test sets\n",
    "X_train, X_test, y_train, y_test = train_test_split(X, y, test_size=0.2, random_state=42)\n",
    "\n",
    "# Linear regression model\n",
    "model = LinearRegression()\n",
    "model.fit(X_train, y_train)\n",
    "\n",
    "# Predict on test set\n",
    "y_pred = model.predict(X_test)\n",
    "\n",
    "# Evaluate model\n",
    "mae = mean_absolute_error(y_test, y_pred)\n",
    "rmse = np.sqrt(mean_squared_error(y_test, y_pred))\n",
    "\n",
    "print(f\"Mean Absolute Error (MAE): {mae:.2f}\")\n",
    "print(f\"Root Mean Squared Error (RMSE): {rmse:.2f}\")\n",
    "\n",
    "# Visualizations: BMI, age, and smoking status vs charges\n",
    "plt.figure(figsize=(15, 5))\n",
    "\n",
    "# BMI vs Charges\n",
    "plt.subplot(1, 3, 1)\n",
    "sns.scatterplot(x='bmi', y='charges', data=insurancedf)\n",
    "plt.title('BMI vs Insurance Charges')\n",
    "\n",
    "# Age vs Charges\n",
    "plt.subplot(1, 3, 2)\n",
    "sns.scatterplot(x='age', y='charges', data=insurancedf)\n",
    "plt.title('Age vs Insurance Charges')\n",
    "\n",
    "# Smoker vs Charges\n",
    "plt.subplot(1, 3, 3)\n",
    "sns.boxplot(x='smoker', y='charges', data=insurancedf)\n",
    "plt.title('Smoker vs Insurance Charges')\n",
    "\n",
    "plt.tight_layout()\n",
    "plt.show()"
   ]
  },
  {
   "cell_type": "markdown",
   "id": "6c749cb9",
   "metadata": {},
   "source": [
    "1. There are no missing values in the dataset."
   ]
  },
  {
   "cell_type": "markdown",
   "id": "7af31d1a",
   "metadata": {},
   "source": [
    "2. **Data preprocessing**"
   ]
  },
  {
   "cell_type": "markdown",
   "id": "22596d37",
   "metadata": {},
   "source": [
    "Encode categorical variables section:"
   ]
  },
  {
   "cell_type": "markdown",
   "id": "a7120f7a",
   "metadata": {},
   "source": [
    "* Converts categorical columns (sex, smoker, region) to numeric using one-hot encoding.\n",
    "* Drops one level from each category to avoid multicollinearity.\n",
    "\n",
    "For example:\n",
    "* sex becomes sex_male\n",
    "* smoker becomes smoker_yes\n",
    "* region becomes 3 columns: region_northwest, region_southeast, region_southwest"
   ]
  },
  {
   "cell_type": "markdown",
   "id": "1c60dde0",
   "metadata": {},
   "source": [
    "3. **Model training**"
   ]
  },
  {
   "cell_type": "markdown",
   "id": "4e3a71a9",
   "metadata": {},
   "source": [
    "* Splits data into training (80%) and test (20%) sets.\n",
    "* Trains a Linear Regression model to predict charges."
   ]
  },
  {
   "cell_type": "markdown",
   "id": "6bb5fdc6",
   "metadata": {},
   "source": [
    "4. **Model performance**"
   ]
  },
  {
   "cell_type": "markdown",
   "id": "e41131a5",
   "metadata": {},
   "source": [
    "* MAE (4181.19): On average, the model’s predictions are off by about $4,181.\n",
    "* RMSE (5796.28): Because RMSE penalizes large errors more, this suggests a few predictions are quite far from the actual values.\n",
    "\n",
    "For a simple Linear Regression, this is a reasonably expected outcome — there's room for improvement using advanced models or feature engineering."
   ]
  },
  {
   "cell_type": "markdown",
   "id": "a7838835",
   "metadata": {},
   "source": [
    "5. **Visualization Analysis**"
   ]
  },
  {
   "cell_type": "markdown",
   "id": "7a07f3e0",
   "metadata": {},
   "source": [
    "**BMI vs Insurance Charges**\n",
    "* Scatter plot shows a lot of people clustered in the lower BMI and charge range.\n",
    "* There's a group with high BMI and high charges — likely smokers or people with other risk factors.\n",
    "* Relationship is weak overall, but there's a visible positive trend for some subgroups."
   ]
  },
  {
   "cell_type": "markdown",
   "id": "5f699b0f",
   "metadata": {},
   "source": [
    "**Age vs Insurance Charges**\n",
    "* Clear positive correlation: as age increases, charges tend to increase.\n",
    "* This makes sense — older individuals are more likely to have health issues and thus higher insurance costs."
   ]
  },
  {
   "cell_type": "markdown",
   "id": "4baef350",
   "metadata": {},
   "source": [
    "**Smoker vs Insurance Charges**\n",
    "* This is the most dramatic difference.\n",
    "* Smokers have much higher insurance charges, often in the $30,000–$60,000 range.\n",
    "* Non-smokers are clustered below $20,000.\n",
    "* This boxplot confirms smoking is a major driver of insurance cost, and the model likely heavily relies on this feature."
   ]
  }
 ],
 "metadata": {
  "kernelspec": {
   "display_name": "Python 3",
   "language": "python",
   "name": "python3"
  },
  "language_info": {
   "codemirror_mode": {
    "name": "ipython",
    "version": 3
   },
   "file_extension": ".py",
   "mimetype": "text/x-python",
   "name": "python",
   "nbconvert_exporter": "python",
   "pygments_lexer": "ipython3",
   "version": "3.13.3"
  }
 },
 "nbformat": 4,
 "nbformat_minor": 5
}
